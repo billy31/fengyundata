{
 "cells": [
  {
   "cell_type": "code",
   "execution_count": 1,
   "metadata": {},
   "outputs": [],
   "source": [
    "import requests, os, datetime, glob, json\n",
    "from dateutil import tz\n",
    "from bs4 import BeautifulSoup as bs4\n",
    "from matplotlib.pyplot import plot as plt\n",
    "import numpy as np\n",
    "import http.client\n",
    "from PIL import Image\n",
    "from io import BytesIO\n",
    "http.client._MAXHEADERS = 1000"
   ]
  },
  {
   "cell_type": "code",
   "execution_count": 3,
   "metadata": {},
   "outputs": [],
   "source": [
    "class fengyun():\n",
    "    def __init__(self, name=None, passwd=None, outdir=os.path.join(os.getcwd(),\n",
    "                                                         '/gencodes/')):\n",
    "        self.mainUrl = 'http://satellite.nsmc.org.cn/Portalsite/'\n",
    "        self.__index = 'Default.aspx'\n",
    "        self.__login = 'WebServ/CommonService.asmx/Login'\n",
    "        self.__code = 'Common/GenCodeImg.aspx'\n",
    "        self.__info = 'sup/user/ShowUserInfo.aspx'\n",
    "        self.__headers = {\n",
    "            'Host': 'satellite.nsmc.org.cn',\n",
    "            'Proxy-Connection': 'keep-alive',\n",
    "            'Cache-Control': 'max-age=0',\n",
    "            'Upgrade-Insecure-Requests': '1',\n",
    "            'User-Agent': 'Mozilla/5.0 (Windows NT 10.0; WOW64) AppleWebKit/537.36 (KHTML, like Gecko) Chrome/80.0.3987.132 Safari/537.36',\n",
    "            'Accept': 'text/html,application/xhtml+xml,application/xml;q=0.9,image/webp,image/apng,*/*;q=0.8,application/signed-exchange;v=b3;q=0.9',\n",
    "            'Accept-Encoding': 'gzip, deflate',\n",
    "            'Accept-Language': 'zh-CN,zh;q=0.9,en;q=0.8,zh-TW;q=0.7,und;q=0.6,hmn;q=0.5,bs;q=0.4',\n",
    "        }\n",
    "        self.__gencodeImage = None\n",
    "        self.__timezone = tz.gettz('Asia/Shanghai')\n",
    "        self.__session = requests.session()\n",
    "        self.__shopcart = 'Data/ShoppingCart.aspx'\n",
    "        self.name = name\n",
    "        self.passwd = passwd\n",
    "        self.outdir = outdir\n",
    "            \n",
    "    def showonterminal(self, img):\n",
    "        fill, flag = ' ', '*'\n",
    "        gen = np.array(img)\n",
    "        xline = ''\n",
    "        for x in range(4, gen.shape[0]-4):\n",
    "            for y in range(gen.shape[1]):\n",
    "                xline += fill if gen[x, y] > 127 else flag\n",
    "            print(xline, end='\\n')\n",
    "            xline = ''            \n",
    "\n",
    "    def getcodeid(self, url):\n",
    "        currtime = datetime.datetime.now(tz=self.__timezone).strftime('%a %d %b %Y %H:%M:%S GMT+0800 (中国标准时间)')\n",
    "        with open(os.getcwd() + 'log.txt', 'w') as f:\n",
    "            f.write('{}'.format(datetime.datetime.now(tz=self.__timezone).strftime('%a %d %b %Y %H:%M:%S')))\n",
    "        urlx = url + '?data=' + currtime\n",
    "        try:\n",
    "            response = self.__session.get(urlx, headers=self.__headers)\n",
    "            if response.status_code == 200:\n",
    "                try:\n",
    "                    image = Image.open(BytesIO(response.content))\n",
    "                    self.showonterminal(image)\n",
    "                except:\n",
    "                    print('Error in open gencode')\n",
    "        except:\n",
    "            print('Error in establish connection')\n",
    "        else:\n",
    "            code = input('code \\n>')\n",
    "            print(code)\n",
    "            return code        \n",
    "        \n",
    "    def setHeaders(self, addKey, addValues):\n",
    "        self.__headers[addKey.__str__()] = addValues.__str__()\n",
    "        \n",
    "    def login(self, maxTry=3):\n",
    "        statuscode = 404\n",
    "        trytimes = 0\n",
    "        while(statuscode != 200 and trytimes < maxTry):\n",
    "            print('Now is the {} time\\'s try'.format(trytimes + 1))\n",
    "            code = self.getcodeid(self.mainUrl + self.__code)\n",
    "            if code == 'q':\n",
    "                print('Quit!')\n",
    "                trytimes = 99\n",
    "            else:\n",
    "                payload = {}\n",
    "                payload['userName'] = self.name\n",
    "                payload['userPwd'] = self.passwd\n",
    "                payload['isSave'] = 'false'\n",
    "                payload['veriCode'] = code\n",
    "                response = self.__session.post(self.mainUrl + self.__login,\n",
    "                                               headers = self.__headers,                                               \n",
    "                                               json = payload)\n",
    "                statuscode = response.status_code\n",
    "                if(statuscode == 200):\n",
    "                    print('Succeed in logg in')\n",
    "                trytimes += 1\n",
    "        if(statuscode != 200 and trytimes < maxTry):\n",
    "            print('Max tries and still fails!')        \n",
    "        \n",
    "    def saveSession(self):\n",
    "        return self.__session\n",
    "    \n",
    "    def printInfo(self):\n",
    "        # autologin\n",
    "        with open(os.getcwd() + 'log.txt', 'r') as f:\n",
    "            lastw = f.readlines()\n",
    "        lastlog = datetime.datetime.strptime(lastw[0], '%a %d %b %Y %H:%M:%S')\n",
    "        deltatime = datetime.datetime.now() - lastlog\n",
    "        \n",
    "        if self.__session.cookies.items() == [] or deltatime.seconds >= 1800:\n",
    "            self.login()\n",
    "        language = input('language(type in index): [1]ZH-CN [2]EN-US \\n')\n",
    "        language_str = ''  if language is '1' else '?currentculture=en-US'\n",
    "        \n",
    "        url = self.mainUrl + self.__info + language_str        \n",
    "        response = self.__session.get(url, headers=self.__headers)        \n",
    "        soup = bs4(response.content, 'lxml')\n",
    "        items = soup.find_all('div', class_='grxxnrtext1')\n",
    "        values = soup.find_all('div', class_='grxxnrtext2')\n",
    "        for i, v in zip(items, values):\n",
    "            print('{:20s} {}'.format(i.text.strip(), v.text.strip()))\n"
   ]
  },
  {
   "cell_type": "code",
   "execution_count": 4,
   "metadata": {},
   "outputs": [
    {
     "name": "stdout",
     "output_type": "stream",
     "text": [
      "Now is the 1 time's try\n",
      "                     *             *              \n",
      "     *       **       ** * **     **   *******    \n",
      "   *         **    *  **   *      *  * ** ****    \n",
      "   *        ***      ***   ***   ***  **          \n",
      "            ***      **   ****   *    **          \n",
      "  *   *     **       **   ****   *    **          \n",
      "            **       **   * ***       ********    \n",
      "            **       **  **  **  *   * ******     \n",
      "  *        **       ***  **  *****   **           \n",
      "      **   **  **   **   **   ***     *           \n",
      "      **   **  ***  ** * *    * *    **           \n",
      "      ******   ******   **    ***   ***       *   \n",
      "       *****    * **    **     ** * **            \n",
      "          *           *                           \n",
      "code \n",
      ">jjnf\n",
      "jjnf\n",
      "Succeed in logg in\n",
      "language(type in index): [1]ZH-CN [2]EN-US \n",
      "1\n",
      "用户类型：                普通实名用户\n",
      "审核状态：                审核成功\n",
      "审核通过日期：              2015-09-30\n",
      "审核提交日期：              2014-10-05\n",
      "真实姓名：                林政阳\n",
      "证件类型：                \n",
      "证件号码：                320***3257\n",
      "单位：                  中国科学院遥感与数字地球研究所全球灾害室\n",
      "手机：                  13051568178\n",
      "联系电话：                null\n",
      "国家：                  中国\n",
      "省份：                  北京市\n",
      "城市：                  \n",
      "通信地址：                北京市海淀区邓庄南路10号\n",
      "邮政编码：                100096\n"
     ]
    }
   ],
   "source": [
    "fy = fengyun('billy31', 'billy7492/')\n",
    "fy.printInfo()\n",
    "sess = fy.saveSession()"
   ]
  },
  {
   "cell_type": "code",
   "execution_count": null,
   "metadata": {},
   "outputs": [],
   "source": [
    "x = requests.session()\n",
    "x.get('http://satellite.nsmc.org.cn/PortalSite/Data/Satellite.aspx')\n",
    "x.cookies.items()"
   ]
  },
  {
   "cell_type": "code",
   "execution_count": null,
   "metadata": {},
   "outputs": [],
   "source": [
    "payload = {}\n",
    "payload['userName'] = 'name'\n",
    "payload['userPwd'] = 'self.passwd'\n",
    "payload['isSave'] = 'false'\n",
    "payload['veriCode'] = 'code'\n",
    "help(payload)"
   ]
  },
  {
   "cell_type": "code",
   "execution_count": null,
   "metadata": {},
   "outputs": [],
   "source": [
    "datetime.datetime.now(tz=tz.gettz('Asia/Shanghai')).strftime('%a %d %b %Y %H:%M:%S GMT+0800 (中国标准时间)')"
   ]
  },
  {
   "cell_type": "code",
   "execution_count": null,
   "metadata": {},
   "outputs": [],
   "source": [
    "r = sess.get('http://satellite.nsmc.org.cn/PortalSite/sup/user/ShowUserInfo.aspx?currentculture=en-US')"
   ]
  },
  {
   "cell_type": "code",
   "execution_count": null,
   "metadata": {},
   "outputs": [],
   "source": [
    "soup = bs4(r.content, 'lxml')\n",
    "items = soup.find_all('div', class_='grxxnrtext1')\n",
    "values = soup.find_all('div', class_='grxxnrtext2')"
   ]
  },
  {
   "cell_type": "code",
   "execution_count": null,
   "metadata": {},
   "outputs": [],
   "source": [
    "for i, v in zip(items, values):\n",
    "    print('{:20s} {}'.format(i.text.strip(), v.text.strip()))"
   ]
  },
  {
   "cell_type": "code",
   "execution_count": null,
   "metadata": {},
   "outputs": [],
   "source": [
    "with open(os.getcwd() + 'log.txt', 'w') as f:\n",
    "    f.write('{}'.format(datetime.datetime.now(tz=tz.gettz('Asia/Shanghai')).strftime('%a %d %b %Y %H:%M:%S')))\n",
    "with open(os.getcwd() + 'log.txt', 'r') as f:\n",
    "    lastlogintime = f.readlines()\n",
    "lasttime = datetime.datetime.strptime(lastlogintime[0], '%a %d %b %Y %H:%M:%S')\n",
    "deltas = datetime.datetime.now() - lasttime\n",
    "deltas.microseconds"
   ]
  },
  {
   "cell_type": "code",
   "execution_count": null,
   "metadata": {},
   "outputs": [],
   "source": [
    "lastlogintime"
   ]
  },
  {
   "cell_type": "code",
   "execution_count": null,
   "metadata": {},
   "outputs": [],
   "source": [
    "r1 = sess.get('http://satellite.nsmc.org.cn/PortalSite/Data/FileShow.aspx')\n",
    "soup = bs4(r1.content, 'lxml')"
   ]
  },
  {
   "cell_type": "code",
   "execution_count": null,
   "metadata": {},
   "outputs": [],
   "source": [
    "infos = soup.find_all('div', id_='divShoppingInfo')\n",
    "for i in infos:\n",
    "    print(i.text)"
   ]
  },
  {
   "cell_type": "code",
   "execution_count": null,
   "metadata": {},
   "outputs": [],
   "source": [
    "soup"
   ]
  },
  {
   "cell_type": "code",
   "execution_count": null,
   "metadata": {},
   "outputs": [],
   "source": []
  }
 ],
 "metadata": {
  "kernelspec": {
   "display_name": "Python 3",
   "language": "python",
   "name": "python3"
  },
  "language_info": {
   "codemirror_mode": {
    "name": "ipython",
    "version": 3
   },
   "file_extension": ".py",
   "mimetype": "text/x-python",
   "name": "python",
   "nbconvert_exporter": "python",
   "pygments_lexer": "ipython3",
   "version": "3.7.3"
  }
 },
 "nbformat": 4,
 "nbformat_minor": 4
}
